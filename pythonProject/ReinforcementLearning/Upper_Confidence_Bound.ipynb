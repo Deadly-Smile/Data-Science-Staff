{
 "cells": [
  {
   "metadata": {},
   "cell_type": "markdown",
   "source": "# Upper Confidence Bound",
   "id": "7ff12f19610cf92a"
  },
  {
   "metadata": {},
   "cell_type": "markdown",
   "source": "## importing libraries",
   "id": "301e5210d430cc77"
  },
  {
   "cell_type": "code",
   "id": "initial_id",
   "metadata": {
    "collapsed": true,
    "ExecuteTime": {
     "end_time": "2024-05-02T09:36:55.718734Z",
     "start_time": "2024-05-02T09:36:55.712918Z"
    }
   },
   "source": [
    "import numpy as np\n",
    "import matplotlib.pyplot as plt\n",
    "import pandas as pd"
   ],
   "outputs": [],
   "execution_count": 1
  },
  {
   "metadata": {},
   "cell_type": "markdown",
   "source": "## Importing dataset",
   "id": "2b09e72c5ea917e6"
  },
  {
   "metadata": {
    "ExecuteTime": {
     "end_time": "2024-05-02T09:36:55.805045Z",
     "start_time": "2024-05-02T09:36:55.761829Z"
    }
   },
   "cell_type": "code",
   "source": [
    "dataset = pd.read_csv('Ads_CTR_Optimisation.csv')\n",
    "print(dataset)"
   ],
   "id": "15ff9fdd7a7f8bba",
   "outputs": [
    {
     "name": "stdout",
     "output_type": "stream",
     "text": [
      "      Ad 1  Ad 2  Ad 3  Ad 4  Ad 5  Ad 6  Ad 7  Ad 8  Ad 9  Ad 10\n",
      "0        1     0     0     0     1     0     0     0     1      0\n",
      "1        0     0     0     0     0     0     0     0     1      0\n",
      "2        0     0     0     0     0     0     0     0     0      0\n",
      "3        0     1     0     0     0     0     0     1     0      0\n",
      "4        0     0     0     0     0     0     0     0     0      0\n",
      "...    ...   ...   ...   ...   ...   ...   ...   ...   ...    ...\n",
      "9995     0     0     1     0     0     0     0     1     0      0\n",
      "9996     0     0     0     0     0     0     0     0     0      0\n",
      "9997     0     0     0     0     0     0     0     0     0      0\n",
      "9998     1     0     0     0     0     0     0     1     0      0\n",
      "9999     0     1     0     0     0     0     0     0     0      0\n",
      "\n",
      "[10000 rows x 10 columns]\n"
     ]
    }
   ],
   "execution_count": 2
  },
  {
   "metadata": {},
   "cell_type": "markdown",
   "source": "## Implement algorithm",
   "id": "22f589b76b7bc0aa"
  },
  {
   "metadata": {
    "ExecuteTime": {
     "end_time": "2024-05-02T09:36:56.066014Z",
     "start_time": "2024-05-02T09:36:55.808477Z"
    }
   },
   "cell_type": "code",
   "source": [
    "import math\n",
    "d = dataset.shape[1]\n",
    "selected_number = [0] * d\n",
    "reward_sum = [0] * d\n",
    "ads_selected = []\n",
    "full_reward = 0\n",
    "\n",
    "for n in range(0, dataset.shape[0]):\n",
    "    ad = 0\n",
    "    max_u_b = 0\n",
    "    for i in range(0,dataset.shape[1]):\n",
    "        if selected_number[i] > 0: \n",
    "            avg_reward = reward_sum[i] / selected_number[i]\n",
    "            delta_i = math.sqrt((3/2) * math.log(n+1) / selected_number[i])\n",
    "            upper_bound = avg_reward + delta_i\n",
    "        else:\n",
    "            upper_bound = 1e400\n",
    "        if upper_bound > max_u_b:\n",
    "            max_u_b = upper_bound\n",
    "            ad = i\n",
    "    ads_selected.append(ad)\n",
    "    selected_number[ad] += 1\n",
    "    reward = dataset.values[n, ad]\n",
    "    reward_sum[ad] += reward\n",
    "    full_reward += reward"
   ],
   "id": "e6d516b4fd1aa85e",
   "outputs": [],
   "execution_count": 3
  },
  {
   "metadata": {
    "ExecuteTime": {
     "end_time": "2024-05-02T09:36:56.072759Z",
     "start_time": "2024-05-02T09:36:56.068331Z"
    }
   },
   "cell_type": "code",
   "source": "print(full_reward)",
   "id": "21b38bfacfa3d687",
   "outputs": [
    {
     "name": "stdout",
     "output_type": "stream",
     "text": [
      "2178\n"
     ]
    }
   ],
   "execution_count": 4
  },
  {
   "metadata": {
    "ExecuteTime": {
     "end_time": "2024-05-02T09:36:56.406329Z",
     "start_time": "2024-05-02T09:36:56.075191Z"
    }
   },
   "cell_type": "code",
   "source": [
    "plt.hist(ads_selected)\n",
    "plt.title(\"Ads Selected Histogram\")\n",
    "plt.xlabel(\"Ads\")\n",
    "plt.ylabel(\"Number of Ads selected\")\n",
    "plt.show()"
   ],
   "id": "59674903658cb8fb",
   "outputs": [
    {
     "data": {
      "text/plain": [
       "<Figure size 640x480 with 1 Axes>"
      ],
      "image/png": "[encoded data removed]"
     },
     "metadata": {},
     "output_type": "display_data"
    }
   ],
   "execution_count": 5
  },
  {
   "metadata": {
    "ExecuteTime": {
     "end_time": "2024-05-02T09:36:56.411882Z",
     "start_time": "2024-05-02T09:36:56.408880Z"
    }
   },
   "cell_type": "code",
   "source": "",
   "id": "3666d126fd36466d",
   "outputs": [],
   "execution_count": 5
  }
 ],
 "metadata": {
  "kernelspec": {
   "display_name": "Python 3",
   "language": "python",
   "name": "python3"
  },
  "language_info": {
   "codemirror_mode": {
    "name": "ipython",
    "version": 2
   },
   "file_extension": ".py",
   "mimetype": "text/x-python",
   "name": "python",
   "nbconvert_exporter": "python",
   "pygments_lexer": "ipython2",
   "version": "2.7.6"
  }
 },
 "nbformat": 4,
 "nbformat_minor": 5
}
