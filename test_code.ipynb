{
  "nbformat": 4,
  "nbformat_minor": 0,
  "metadata": {
    "colab": {
      "provenance": [],
      "authorship_tag": "ABX9TyPN6lfUol2ya3T0KfekIMSK",
      "include_colab_link": true
    },
    "kernelspec": {
      "name": "python3",
      "display_name": "Python 3"
    },
    "language_info": {
      "name": "python"
    }
  },
  "cells": [
    {
      "cell_type": "markdown",
      "metadata": {
        "id": "view-in-github",
        "colab_type": "text"
      },
      "source": [
        "<a href=\"https://colab.research.google.com/github/Deadly-Smile/Data-Science-Staff/blob/main/test_code.ipynb\" target=\"_parent\"><img src=\"https://colab.research.google.com/assets/colab-badge.svg\" alt=\"Open In Colab\"/></a>"
      ]
    },
    {
      "cell_type": "code",
      "execution_count": null,
      "metadata": {
        "id": "Hicv9l2m1CWo"
      },
      "outputs": [],
      "source": [
        "import numpy as np\n",
        "import pandas as pd\n",
        "import tensorflow as tf\n",
        "from keras.api.preprocessing import image_dataset_from_directory\n",
        "from sklearn.model_selection import train_test_split\n",
        "import os\n",
        "\n",
        "# You can write up to 20GB to the current directory (/kaggle/working/) that gets preserved as output when you create a version using \"Save & Run All\"\n",
        "# You can also write temporary files to /kaggle/temp/, but they won't be saved outside of the current session\n",
        "\n",
        "# Paths for training, testing, and validation images\n",
        "dataset_path = '/kaggle/input/ai-generated-images-vs-real-images/'\n",
        "\n",
        "all_data = image_dataset_from_directory(\n",
        "    dataset_path,\n",
        "    image_size=(256, 256),  # Resizing to 256x256\n",
        "    batch_size=32,         # Adjust batch size as needed\n",
        "    shuffle=True           # Shuffle the dataset\n",
        ")\n",
        "\n",
        "# Count the total number of batches\n",
        "dataset_size = all_data.cardinality().numpy()\n",
        "\n",
        "# Calculate split sizes\n",
        "train_size = int(0.7 * dataset_size)  # 70% for training\n",
        "val_size = int(0.15 * dataset_size)   # 15% for validation\n",
        "test_size = dataset_size - train_size - val_size  # Remaining for testing\n",
        "\n",
        "# Split the dataset\n",
        "train_data = all_data.take(train_size)\n",
        "remaining_data = all_data.skip(train_size)\n",
        "val_data = remaining_data.take(val_size)\n",
        "test_data = remaining_data.skip(val_size)"
      ]
    },
    {
      "cell_type": "code",
      "source": [
        "preprocessing_pipeline_train = tf.keras.Sequential([\n",
        "    tf.keras.layers.Rescaling(scale=1./255),\n",
        "    tf.keras.layers.Resizing(height=256, width=256),\n",
        "    tf.keras.layers.RandomCrop(height=256, width=256),\n",
        "    tf.keras.layers.RandomRotation(factor=0.2, fill_mode=\"reflect\", interpolation=\"bilinear\"),\n",
        "    tf.keras.layers.RandomZoom(height_factor=(0.2, 0.3), fill_mode=\"reflect\", interpolation=\"bilinear\"),\n",
        "    tf.keras.layers.RandomBrightness(factor=0.1)\n",
        "])\n",
        "preprocessing_pipeline_test = tf.keras.Sequential([\n",
        "    tf.keras.layers.Rescaling(scale=1./255),\n",
        "])"
      ],
      "metadata": {
        "id": "pWuxjVh31Lj6"
      },
      "execution_count": null,
      "outputs": []
    },
    {
      "cell_type": "code",
      "source": [
        "import numpy as np\n",
        "import matplotlib.pyplot as plt\n",
        "\n",
        "# Visualize a batch\n",
        "for images, labels in train_data.take(1):\n",
        "    plt.figure(figsize=(10, 10))\n",
        "    for i in range(9):\n",
        "        ax = plt.subplot(3, 3, i + 1)\n",
        "        plt.imshow(images[i].numpy().astype(\"uint8\"))\n",
        "        # Convert one-hot encoded label back to scalar\n",
        "        plt.title(np.argmax(labels[i].numpy()))\n",
        "        plt.axis(\"off\")\n"
      ],
      "metadata": {
        "id": "OcuYgEMz1Rxs"
      },
      "execution_count": null,
      "outputs": []
    },
    {
      "cell_type": "code",
      "source": [
        "train_data = train_data.map(lambda x, y: (x, tf.one_hot(tf.cast(y, tf.int32), depth=2)))\n",
        "val_data = val_data.map(lambda x, y: (x, tf.one_hot(tf.cast(y, tf.int32), depth=2)))\n",
        "test_data = test_data.map(lambda x, y: (x, tf.one_hot(tf.cast(y, tf.int32), depth=2)))\n",
        "\n",
        "AUTOTUNE = tf.data.AUTOTUNE\n",
        "train_data = train_data.prefetch(buffer_size=AUTOTUNE)\n",
        "test_data = test_data.prefetch(buffer_size=AUTOTUNE)\n",
        "val_data = val_data.prefetch(buffer_size=AUTOTUNE)"
      ],
      "metadata": {
        "id": "8ZzllwHZ1ODL"
      },
      "execution_count": null,
      "outputs": []
    },
    {
      "cell_type": "code",
      "source": [
        "import numpy as np\n",
        "import matplotlib.pyplot as plt\n",
        "\n",
        "# Visualize a batch\n",
        "for images, labels in train_data.take(1):\n",
        "    plt.figure(figsize=(10, 10))\n",
        "    for i in range(9):\n",
        "        ax = plt.subplot(3, 3, i + 1)\n",
        "        plt.imshow(images[i].numpy().astype(\"uint8\"))\n",
        "        # Convert one-hot encoded label back to scalar\n",
        "        plt.title(np.argmax(labels[i].numpy()))\n",
        "        plt.axis(\"off\")\n"
      ],
      "metadata": {
        "id": "nhL2G_UH1QQR"
      },
      "execution_count": null,
      "outputs": []
    },
    {
      "cell_type": "code",
      "source": [
        "cnn = tf.keras.models.Sequential()\n",
        "cnn.add(tf.keras.Input(shape=(256, 256, 3)))\n",
        "cnn.add(tf.keras.layers.Conv2D(32, (3, 3), activation='relu', padding='same'))\n",
        "cnn.add(tf.keras.layers.MaxPooling2D((3, 3)))\n",
        "cnn.add(tf.keras.layers.Conv2D(32, (3, 3), activation='relu', padding='same'))\n",
        "cnn.add(tf.keras.layers.MaxPooling2D((3, 3)))\n",
        "cnn.add(tf.keras.layers.Conv2D(32, (3, 3), activation='relu', padding='same'))\n",
        "cnn.add(tf.keras.layers.MaxPooling2D((3, 3)))\n",
        "cnn.add(tf.keras.layers.Flatten())\n",
        "cnn.add(tf.keras.layers.Dense(128, activation='relu'))\n",
        "cnn.add(tf.keras.layers.Dense(2, activation='softmax'))\n",
        "cnn.compile(optimizer='adam', loss='categorical_crossentropy', metrics=['accuracy'])\n",
        "cnn.summary()"
      ],
      "metadata": {
        "id": "6Xsz56gm1S4i"
      },
      "execution_count": null,
      "outputs": []
    },
    {
      "cell_type": "code",
      "source": [
        "cnn.fit(x = train_data, validation_data = test_data, epochs = 10)"
      ],
      "metadata": {
        "id": "t58TIAoX1W8C"
      },
      "execution_count": null,
      "outputs": []
    },
    {
      "cell_type": "code",
      "source": [
        "cnn.save('model.keras')"
      ],
      "metadata": {
        "id": "az0pQ2xQ1di7"
      },
      "execution_count": null,
      "outputs": []
    }
  ]
}